{
 "cells": [
  {
   "cell_type": "code",
   "execution_count": null,
   "metadata": {},
   "outputs": [],
   "source": [
    "pip install PyPDF4"
   ]
  },
  {
   "cell_type": "code",
   "execution_count": 18,
   "metadata": {},
   "outputs": [],
   "source": [
    "import PyPDF4 #importing necessary library\n",
    "pdfFileObj = open('my_file1.pdf','rb')     #'rb' for read binary mode \n",
    "\n"
   ]
  },
  {
   "cell_type": "code",
   "execution_count": 19,
   "metadata": {},
   "outputs": [],
   "source": [
    "pdfReader = PyPDF4.PdfFileReader(pdfFileObj)  #Creating object \n"
   ]
  },
  {
   "cell_type": "code",
   "execution_count": 20,
   "metadata": {},
   "outputs": [
    {
     "data": {
      "text/plain": [
       "PyPDF4.pdf.PdfFileReader"
      ]
     },
     "execution_count": 20,
     "metadata": {},
     "output_type": "execute_result"
    }
   ],
   "source": [
    "type(pdfReader)"
   ]
  },
  {
   "cell_type": "code",
   "execution_count": 21,
   "metadata": {},
   "outputs": [
    {
     "name": "stdout",
     "output_type": "stream",
     "text": [
      "10\n"
     ]
    }
   ],
   "source": [
    "print(pdfReader.numPages) #Checking the number of pages in the pdf"
   ]
  },
  {
   "cell_type": "code",
   "execution_count": 22,
   "metadata": {},
   "outputs": [
    {
     "data": {
      "text/plain": [
       "10"
      ]
     },
     "execution_count": 22,
     "metadata": {},
     "output_type": "execute_result"
    }
   ],
   "source": [
    "num=pdfReader.numPages\n",
    "num"
   ]
  },
  {
   "cell_type": "code",
   "execution_count": 23,
   "metadata": {},
   "outputs": [
    {
     "data": {
      "text/plain": [
       "\"61\\n6\\na\\n Take turns to tell your partner about your story. \\nAsk questions to ˜ nd out the details of your \\npartner™s story\\n.\\n \\nb\\n Read each other™s stories. What else did you learn?\\n7 \\nDiscuss the questions.\\nWhat was the worst experience in your opinion?\\nWhat was the worst part of each experience?\\nDo you know any stories of experiences like this? \\nWhat happened?\\nVocabulary\\nAdverbs for telling stories\\n1 \\nMatch the sentences in A and B.\\nA\\n1 \\nThe audience were completely silent.\\n2 \\nMrs Brown was over 80 when she died.\\n3 \\nThe police searched the area for several days.\\n4 \\nI realised I™d left my purse at home.\\n5 \\nAs the woman came round the corner, she was \\nknocked off her bicycle by a passing car.\\n6 \\nRobert really loves French food and culture.\\n7 \\nMy sister™s family were in a minor car accident \\n\\nyesterday.\\n8 \\nHannah found out today that she didn™t get that \\njob she applied for.\\n9 \\nMarianne and Laura were great friends at university.\\nB\\n\\na Unfortunately\\n, she never saw her only grandchild, \\nwho was born in Australia.\\nb Surprisingly\\n, though, he™s never visited France.\\n\\nc \\nHowever, they \\ngradually \\nlost touch over the years.\\nd \\nI \\nimmediately \\nran over to see if she was alright.\\ne Suddenly\\n, a mobile phone rang and everyone \\nturned and stared.\\nf Fortunately\\n, I had my credit card in my pocket.\\n\\ng Obviously\\n, she was very disappointed.\\nh Eventually\\n,\\n they found the piece of evidence they \\nwere looking for.\\ni Thankfully\\n, they were all OK.\\n2 \\nComplete the sentences in a logical way using \\n\\nboth adverbs.\\nMy aunt fell down the stairs the other day.\\nThankfully,\\n \\nshe didn™t hurt herself.\\nObviously,\\n \\nshe was quite upset.\\n1 \\nMy dad™s been on a strict diet for nearly a month. \\n Unfortunately –\\n Surprisingly –\\n2 \\nI ˜ rst met my wife at a party ˜ ve years ago.\\n Immediately –\\n Surprisingly –\\n3 \\nWhen I came to live here, I didn™t know anybody.\\n Gradually –\\n Eventually –\\n4 \\nI spent an hour looking for the missing keys.\\n Eventually –\\n Fortunately –\\n5 \\nThe room was in complete darkness.\\n Eventually –\\n Suddenly –\\n06\\nTrue stories\\nAt about 300 feet (91.5 metres), I started reading the \\ninstructions. There were six steps, and I read them two \\n\\nor three times, testing myself on each step and trying to \\nimagine myself opening the door. Suddenly, we hit the \\nwater. It felt like the worst car crash you could imagine. \\n\\nMy ˜ rst thought was, ‚This plane is sinking, we have to get \\n\\neverybody off as soon as possible.™ \\n\\n Someone next to me was trying to pull the door in and \\nI said, ‚No, it™s got to go out.™ Fortunately, I™d just read that. \\nI managed to get the door open and I grabbed the hand of \\n\\na woman sitting next to me. We walked out onto the wing, \\n\\nwhich was sinking lower and lower. We walked as far along \\nas we could to make room for other people. Everyone was \\nhelping each other. It was freezing, and nobody had a jacket. \\n\\nSome people were underwater to their waists. \\n\\n It felt like half an hour before we saw the ˜ rst ferry, \\n\\nalthough it can have been only ˜ ve or ten minutes. I was \\nfourth onto the ferry, and I started helping people onto the \\nboat. Fortunately, everyone had survived the crash. \\n\\n I got through it by taking it one step at a time: get the \\n\\ndoor open, throw the door out, ˜ gure out if you™re sinking. \\n\\nI just kept on doing that until I reached solid ground. Only \\nthen did I go into the men™s room and cry for a \\nfew minutes.\\n \\nFIND OUT MORE\\n Go online to ˜ nd out more about \\nJosh Peltz\\n and the story of \\nUS Airways Flight 1549\\n.  \\nI\\nT\\n'\\nS\\n \\nA\\n \\nF\\nA\\nC\\nT\\n!\\nAir travel is \\nextraordinarily \\nsafe. 95 percent of \\npeople involved in \\naviation accidents \\nsurvive!\\nM06_CE3_SB_INTGLB_6476_U06.indd   61\\n05/11/2012   11:05\\n\""
      ]
     },
     "execution_count": 23,
     "metadata": {},
     "output_type": "execute_result"
    }
   ],
   "source": [
    "pageObj = pdfReader.getPage(5)          #'6' is the page number\n",
    "\n",
    "pageObj.extractText()\n"
   ]
  },
  {
   "cell_type": "code",
   "execution_count": 24,
   "metadata": {},
   "outputs": [
    {
     "data": {
      "text/plain": [
       "'60\\nReading and speaking\\n1 \\nLook at the poster above. Can you think of any \\nother disaster movies based on real events?\\n2\\na\\n Work in pairs. You are going to read about \\nJosh Peltz™s real-life experience of a plane crash. \\nBefore you read the text, look at the photo and \\nanswer the questions.\\n1 \\nWhat do you think Josh thought about as the \\nplane was going down? \\n2 \\nWhat do you think he did when he was safe?\\n \\nb\\n Read the text and compare it with your ideas \\nfrom exercise 2a.\\n3 \\nRead the text again and put the events in the \\n\\ncorrect order, 1Œ10.\\na \\nJosh read the emergency information.\\nb \\nJosh opened the door and got out of the plane.\\nc \\nThe captain made an announcement.\\nd \\nEveryone was silent for a while.\\ne \\nJosh cried.\\nf \\nAn explosion happened not long after they had \\ntaken off. \\n1\\ng \\nThe plane crashed into the water.\\nh \\nA ferry arrived to rescue the passengers.\\ni \\nSome of the passengers screamed.\\nj \\nThe passengers went out onto the wing of \\n\\nthe plane.\\n4 \\nWork in pairs and discuss.\\nWhat technique did Josh use to survive the crash?\\nWhat would do in a situation like this?\\nRead ‚It™s a fact!™ Are you surprised by the fact \\nabout plane safety?\\n5\\na\\n You are going to read about real-life experiences of \\na shipwreck and a shark attack. Which experience \\n\\ndo you think the phrases in the box below relate to? \\nWrite SW (shipwreck) or SA (shark attack).\\nto bite  the crew of a boat  a rubber dinghy  a ˚ are  \\nto feel numb  to hold on  to let go  a life belt \\n\\nto paddle  a searchlight  a surfboard\\n \\nb\\n Work in pairs. Student A: Turn to page 129 to read \\n‚Shipwrecked™\\n. \\nThen answer the questions about it. \\nStudent B: Turn to page 131 to read ‚\\nAttacked by \\na shark\\n™\\n.\\n Then answer the questions about it. \\nJosh Peltz was on US Airways Flight 1549, which crash- landed \\n\\nin the Hudson River in New York in January 2009.\\nI was in seat 10F next to the emergency exit. A few minutes \\nafter take-off there was a loud explosion. Everybody gasped \\nand there were a few screams. Then, surprisingly, it went \\n\\nvery quiet Œ everyone was assessing the situation. \\n\\n It soon became obvious we weren™t going back to \\nLaGuardia Airport, we were heading for the water. I started \\nthinking this was it. I thought about my wife, Tesa, and our \\n\\ntwo children. Then I heard the announcement, ‚This is the \\n\\ncaptain, brace for impact,™ and everything suddenly got very \\n\\nclear. I had to stop thinking about death and start thinking \\nabout what I was going to do once the pilot landed in the \\nwater. ‚You sat in this seat,™ I thought, ‚you™ve got to get this \\n\\ndoor open.™\\nIt really \\nhappened \\n\\nto me!\\nM06_CE3_SB_INTGLB_6476_U06.indd   60\\n05/11/2012   11:05\\n'"
      ]
     },
     "execution_count": 24,
     "metadata": {},
     "output_type": "execute_result"
    }
   ],
   "source": [
    "pageObj = pdfReader.getPage(4)          #'5' is the page number\n",
    "\n",
    "pageObj.extractText()"
   ]
  },
  {
   "cell_type": "code",
   "execution_count": 25,
   "metadata": {},
   "outputs": [],
   "source": [
    "#Creating a function to do the same task.\n",
    "\n",
    "def pdf_extraction_demo(file):\n",
    "    pdfFileObj = open(file,'rb')\n",
    "    pdfReader = PyPDF4.PdfFileReader(pdfFileObj)\n",
    "    num=int(pdfReader.numPages)\n",
    "    l=[]\n",
    "    for i in range(num):\n",
    "        l.append(pdfReader.getPage(i))\n",
    "    return (l)\n",
    "\n",
    "\n",
    "    "
   ]
  }
 ],
 "metadata": {
  "kernelspec": {
   "display_name": "Python 3",
   "language": "python",
   "name": "python3"
  },
  "language_info": {
   "codemirror_mode": {
    "name": "ipython",
    "version": 3
   },
   "file_extension": ".py",
   "mimetype": "text/x-python",
   "name": "python",
   "nbconvert_exporter": "python",
   "pygments_lexer": "ipython3",
   "version": "3.8.3"
  }
 },
 "nbformat": 4,
 "nbformat_minor": 4
}
