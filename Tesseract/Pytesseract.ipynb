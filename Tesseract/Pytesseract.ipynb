{
 "cells": [
  {
   "cell_type": "code",
   "execution_count": null,
   "metadata": {},
   "outputs": [],
   "source": [
    "pip install pytesseract"
   ]
  },
  {
   "cell_type": "code",
   "execution_count": 1,
   "metadata": {},
   "outputs": [],
   "source": [
    "import pytesseract as tess\n",
    "#Setting the path for tesseract.exe file in the local system\n",
    "tess.pytesseract.tesseract_cmd = r'C:\\Users\\Harsh\\AppData\\Local\\Programs\\Tesseract-OCR\\tesseract.exe'"
   ]
  },
  {
   "cell_type": "code",
   "execution_count": 2,
   "metadata": {},
   "outputs": [],
   "source": [
    "from PIL import Image"
   ]
  },
  {
   "cell_type": "code",
   "execution_count": 3,
   "metadata": {},
   "outputs": [],
   "source": [
    "img = Image.open('1.PNG')\n",
    "text = tess.image_to_string(img, config)"
   ]
  },
  {
   "cell_type": "code",
   "execution_count": 4,
   "metadata": {},
   "outputs": [
    {
     "data": {
      "text/plain": [
       "'19\\n\\nMAY 2 6 1981\\n\\nADDENDUM I\\n\\nDAWSON RESEARCH CORPORATION\\nProtocol Change Order No. _1\\n\\nDate 5-13-81\\n\\n \\n\\nProtocol LRC-SA\\n\\nSubject Change in the time of the Pre-dose Biomicroscopic Examination\\n\\n \\n\\n \\n\\nDate 5-13-81 _ Method Verbal-Phone\\n\\nAuthorized by Dr. Connie stone\\n(Means of communication)\\n\\n \\n\\nAuthorized to Mz. Charles Burns\\n\\n \\n\\nEstimated cost of the study will be: -\\n\\n \\n\\n \\n\\n \\n\\n \\n\\nX] increased decreased not affected\\n\\n \\n\\n \\n\\n \\n\\n \\n\\n \\n\\n \\n\\nDescription of change order:\\n\\nSection 111. a. 24 paragraph - the first sentence is to be changed to read\\n\\nas follows:\\nTwenty-four to 30 hours prior to dosing, both eyes of each rabbit will\\nbe examined by an experienced investigator using a slit lamp\\nbiomicroscope.\\n\\nThe change was made so the protocol more closely conforms with the proposed\\n\\nregulations as stated in the Federal Register, Vol. 44, No. 145,\\n772.112-24 Primary Eye Irritation Study.\\n\\n6L8TS800\\n\\n \\n\\na SL sh bX raat (ype\\n\\nStudy Director Signature\\n\\n \\n\\n \\n\\nSponsér Signature\\n\\x0c'"
      ]
     },
     "execution_count": 4,
     "metadata": {},
     "output_type": "execute_result"
    }
   ],
   "source": [
    "#good amount of accuracy in terms of text extraction from scanned documents.\n",
    "text"
   ]
  },
  {
   "cell_type": "code",
   "execution_count": 5,
   "metadata": {},
   "outputs": [
    {
     "data": {
      "text/plain": [
       "'O — TD |} Bhs Ko B\\nO~NMARYDBWR aS\\nQANMRLY KP\\nO~NMRHVRAST\\nD— Noor hse Poo\\nQAVVEPRHOOAO\\nQO mhoayh-S Kron\\nO™~ NO RWW HH YP\\nQ-AMTAV KAW\\nONAMTYS KROAS\\nDV PALS Rew\\nR— NM nw Rw HK\\nS—-NMY4H YD tws\\nD—amehLon gar\\nDuiYOK MTHS Ko &\\n\\x0c'"
      ]
     },
     "execution_count": 5,
     "metadata": {},
     "output_type": "execute_result"
    }
   ],
   "source": [
    "#trying implementing tesseract over any other image(handwritten).\n",
    "img = Image.open('5.JPEG')\n",
    "text = tess.image_to_string(img)\n",
    "text"
   ]
  },
  {
   "cell_type": "code",
   "execution_count": 6,
   "metadata": {},
   "outputs": [
    {
     "data": {
      "text/plain": [
       "'Optical Character Recognition\\n\\n* Convert text into machine processable data\\n\\n* 1910s\\n* Telegraph codes\\n* Reading device for the blind\\n\\n* Circa 1930\\n* Searching microfilm archives\\n\\n* Fixed font characters\\n* Accuracy affected by noise\\n\\n* Hand Written or printed characters\\n* Characters not consistent\\n* Likely to contain noise\\n\\x0c'"
      ]
     },
     "execution_count": 6,
     "metadata": {},
     "output_type": "execute_result"
    }
   ],
   "source": [
    "#Good accuracy from system based text images\n",
    "img = Image.open('7.JPG')\n",
    "text = tess.image_to_string(img)\n",
    "text"
   ]
  },
  {
   "cell_type": "code",
   "execution_count": 7,
   "metadata": {},
   "outputs": [
    {
     "data": {
      "text/plain": [
       "'Handwritten Digit Recognition with Python\\n\\nTechVidy:\\n\\n \\n\\x0c'"
      ]
     },
     "execution_count": 7,
     "metadata": {},
     "output_type": "execute_result"
    }
   ],
   "source": [
    "img = Image.open('6.JPG')\n",
    "text = tess.image_to_string(img)\n",
    "text"
   ]
  },
  {
   "cell_type": "code",
   "execution_count": 9,
   "metadata": {},
   "outputs": [
    {
     "data": {
      "text/plain": [
       "'    \\n \\n\\nle in the GitHub repository for\\n\\x0c'"
      ]
     },
     "execution_count": 9,
     "metadata": {},
     "output_type": "execute_result"
    }
   ],
   "source": [
    "#Struggling while extracting data from handwritten scanned images\n",
    "img = Image.open('9.jpg')\n",
    "text = tess.image_to_string(img)\n",
    "text"
   ]
  },
  {
   "cell_type": "code",
   "execution_count": 10,
   "metadata": {},
   "outputs": [
    {
     "data": {
      "text/plain": [
       "'RJR Mailfile Table Update Sheet\\n‘Alert Number 970220\\nTo: RJRIR - SuzvArt\\nFrom: Drew Huyett\\nDate: 3707\\n\\nProgram Group 102-Edlipse\\nSystem ‘Corp/Multibrand\\n\\nMailfile ID:___ 3,984 Maailfile Description Mail Order - Indy Responders\\n(onal Dataset Name\\n(competi\\n\\n \\n\\nProgram #: 700418\\n\\nBRC Codes w81-carton order form\\n\\n \\n\\n \\n\\nT Codes NA\\n\\n \\n\\n \\n\\n \\n\\n \\n\\n \\n\\n \\n\\n \\n\\n \\n\\n \\n\\n \\n\\n \\n\\n \\n\\n1 HD home delivery\\n23° ‘sneak preview\\n3\\n4\\n5\\n6\\n7\\n8\\n9\\n10\\nNotes\\nis 1s for notes\\n97022018 Maile\\n\\nOver exots\\n\\x0c'"
      ]
     },
     "execution_count": 10,
     "metadata": {},
     "output_type": "execute_result"
    }
   ],
   "source": [
    "img = Image.open('2.PNG')\n",
    "text = tess.image_to_string(img)\n",
    "text"
   ]
  },
  {
   "cell_type": "code",
   "execution_count": 11,
   "metadata": {},
   "outputs": [
    {
     "data": {
      "text/plain": [
       "'Reconstituted Tobacco Leaf Substitutions\\nExport Formulas\\nRevision Date: 05/11/95\\n\\n \\n\\nAllowable Grade Substitutions\\nfor Export CPCL\\n\\nAllowable Substitutions\\nRPCFS or RPCFS-O\\n\\n \\n\\n    \\n  \\n\\npeer\\n\\neoeses eae\\n\\n \\n\\n \\n\\nee RPCBS or RPCBS-O.\\nwcc\\n\\n \\n\\n \\n\\n \\n\\nMC-4-S\\nMC-4-PH\\nMC-4-RC\\nMC-4-W\\n\\n \\n\\n \\n\\n \\n\\n \\n\\n \\n\\nMC-1\\n\\n \\n\\n \\n\\n~ {C Stem\\n\\n \\n\\n \\n\\n \\n\\n| RXF Fine fiue cure RRXF or RRXF-O\\nRRXM-B\\nRRXM-T\\n\\n \\n\\n \\n\\n \\n\\n \\n\\n \\n\\nRRBF or RRBF-O\\nRRB-B\\nRRB-L\\n\\n \\n\\n \\n\\n \\n\\n \\n\\nRRB-T\\n\\n \\n\\n \\n\\n \\n\\n \\n\\nSSbpuoustey\\n\\x0c'"
      ]
     },
     "execution_count": 11,
     "metadata": {},
     "output_type": "execute_result"
    }
   ],
   "source": [
    "img = Image.open('3.PNG')\n",
    "text = tess.image_to_string(img)\n",
    "text"
   ]
  },
  {
   "cell_type": "code",
   "execution_count": 12,
   "metadata": {},
   "outputs": [
    {
     "data": {
      "text/plain": [
       "\" \\n\\n \\n\\n \\n\\n \\n\\nDirect Account.\\nPlease Ship To-\\nAddress.\\nCity\\n‘State\\n\\nDelivery Date\\n\\nZip.\\n\\n \\n\\n \\n\\n \\n\\nNo, OF CARTONS\\n\\nBRAND\\n\\n \\n\\nSatin Filter 100's\\n\\n \\n\\nSatin Menthol 100’s\\n\\n \\n\\n \\n\\n \\n\\n \\n\\n \\n\\nrate of\\nta rrchasor\\n\\n \\n\\n(Order Taken By\\n‘Sales Representa\\n\\nSrsegosd\\n\\n \\n\\n \\n\\x0c\""
      ]
     },
     "execution_count": 12,
     "metadata": {},
     "output_type": "execute_result"
    }
   ],
   "source": [
    "img = Image.open('4.PNG')\n",
    "text = tess.image_to_string(img)\n",
    "text"
   ]
  },
  {
   "cell_type": "markdown",
   "metadata": {},
   "source": [
    "# Performing Various changes in OEM and PSM configuration values of Tesseract"
   ]
  },
  {
   "cell_type": "code",
   "execution_count": 13,
   "metadata": {},
   "outputs": [
    {
     "data": {
      "text/plain": [
       "'MEDICAL BILL RECEIPT\\n\\n \\n\\nReceipt Number:\\nDate:\\n\\nName of Medical Institution:\\n\\nPractitioner Name:\\n\\nLicense Number:\\n\\nAddress:\\n\\nCity/State/ZIP:\\n\\nPatient Information:\\nName:\\n\\nStreet Address:\\nCity/State/ZIP:\\n\\x0c'"
      ]
     },
     "execution_count": 13,
     "metadata": {},
     "output_type": "execute_result"
    }
   ],
   "source": [
    "\n",
    "img = Image.open('13.PNG')\n",
    "text = tess.image_to_string(img)\n",
    "text"
   ]
  },
  {
   "cell_type": "code",
   "execution_count": 16,
   "metadata": {},
   "outputs": [
    {
     "data": {
      "text/plain": [
       "'Sidecar Bar & Grill\\n577 College Street\\nToronto, Ontario\\nTel: 416-536-7000\\nCheck #: 39560\\n\\nServer: Deb\\nTable: 11\\n\\n  \\n\\n \\n\\n1 Oysters 6.00\\n1 Srelts 12.00\\n1 Duck Terrine 14.00\\n1 Prix Dessert 0.00\\n1 AG Malbec: B.0\\n1 Soup 8.00\\n1 Tagliatelte 16.00\\n1 08S Brownie 9.00\\n‘SUB-TOTAL: 90.00\\n\\nist: 11.70\\n\\n \\n\\nTOTAL 101.70\\n\\n \\n\\nJoin us for our $25 Prix Fixe\\nSunday - Wednesday\\n\\n6ST: 628874412RTOOO1\\n\\x0c'"
      ]
     },
     "execution_count": 16,
     "metadata": {},
     "output_type": "execute_result"
    }
   ],
   "source": [
    "#Without changing the configuration part of Tesseract.\n",
    "img = Image.open('14.PNG')\n",
    "text = tess.image_to_string(img)\n",
    "text\n",
    "\n",
    "#The errors which noticed are like Check # is predicted as 39560 which actually is 39580\n",
    "#predicted Srelts which is actually Smelts\n",
    "#predicted Tagliatelte which is actully Tagliatelle\n",
    "#predicted 08S Brownie instead of D&S Brownie\n",
    "#predicted  6ST instead of GST"
   ]
  },
  {
   "cell_type": "code",
   "execution_count": 20,
   "metadata": {},
   "outputs": [
    {
     "data": {
      "text/plain": [
       "'Sidecar Bar & Grill\\n\\n517 College Street\\n\\nToronto, Ontario\\n\\nTel: 416-536-7000\\n\\nCheck #: 39560\\nServer: Deb Date: 12/06/2011\\nTable: 11 Tine: 21:26\\nChtent: 2\\n1 Oysters 6.00\\n1 Stelts 12.00\\n1 Duck Terrine 14.00\\n1 Prix Dessert 0.00\\n1 a6 Malbec 3.0\\n1 Soup 8.00\\n1 Tagliatelte 16.00\\n1 08S Brownie 9.00\\nSUB-TOTAL: 90.00\\nst: 11.70\\nTOTAL : 101.70\\nJoin us for our $25 Prix Fixe\\nSunday - Wednesday\\n6ST: @2887441zRT0001\\n\\x0c'"
      ]
     },
     "execution_count": 20,
     "metadata": {},
     "output_type": "execute_result"
    }
   ],
   "source": [
    "# Now if we juggle with the configuration part of Tesseract we may get some variations in the outcome.\n",
    "#(--oem 3 --psm 6).\n",
    "cong=r'--oem 3 --psm 6'\n",
    "img = Image.open('14.PNG')\n",
    "text = tess.image_to_string(img, config = cong)\n",
    "text\n",
    "\n",
    "#The errors which noticed are like Check # is predicted as 39560 which actually is 39580\n",
    "#predicted Stelts which is actually Smelts\n",
    "#predicted Tagliatelte which is actully Tagliatelle\n",
    "#predicted 08S Brownie instead of D&S Brownie\n",
    "#predicted  6ST instead of GST\n",
    "#predicted a6 Malbec instead of AG Malbec"
   ]
  },
  {
   "cell_type": "code",
   "execution_count": 23,
   "metadata": {},
   "outputs": [
    {
     "data": {
      "text/plain": [
       "'Sidecar Bar & Grill\\n\\n517 College Street\\n\\nToronto, Ontario\\n\\nTel: 416-536-7000\\n\\nCheck #: 39560\\nServer: Deb Date: 12/06/2011\\nTable: 11 Tine: 21:26\\nChtent: 2\\n1 Oysters 6.00\\n1 Stelts 12.00\\n1 Duck Terrine 14.00\\n1 Prix Dessert 0.00\\n1 a6 Malbec 3.0\\n1 Soup 8.00\\n1 Tagliatelte 16.00\\n1 08S Brownie 9.00\\nSUB-TOTAL: 90.00\\nst: 11.70\\nTOTAL : 101.70\\nJoin us for our $25 Prix Fixe\\nSunday - Wednesday\\n6ST: @2887441zRT0001\\n\\x0c'"
      ]
     },
     "execution_count": 23,
     "metadata": {},
     "output_type": "execute_result"
    }
   ],
   "source": [
    "# Now if we juggle with the configuration part of Tesseract we may get some variations in the outcome (--oem 1 --psm 6).\n",
    "cong=r'--oem 1 --psm 6'\n",
    "img = Image.open('14.PNG')\n",
    "text = tess.image_to_string(img, config = cong)\n",
    "text\n",
    "\n",
    "#Predicted Tine which is actually time\n",
    "#The errors which noticed are like Check # is predicted as 39560 which actually is 39580\n",
    "#predicted Stelts which is actually Smelts\n",
    "#predicted Tagliatelte which is actully Tagliatelle\n",
    "#predicted 08S Brownie instead of D&S Brownie\n",
    "#predicted  6ST instead of GST"
   ]
  },
  {
   "cell_type": "code",
   "execution_count": 38,
   "metadata": {},
   "outputs": [
    {
     "data": {
      "text/plain": [
       "'Sidecar Bar & Grill\\n577 College Street\\nToronto, Ontario\\nTel: 416-536-7000\\nCheck #: 39560\\n\\nServer: Deb\\nTable: 11\\n\\n \\n\\n \\n\\n1 Oysters 6.00\\n1 Srelts 12.00\\n1 Duck Terrine 14.00\\n1 Prix Dessert 0.00\\n1 AG Malbec: B.0\\n1 Soup 8.00\\n1 Tagliatelte 16.00\\n1 08S Brownie 9.00\\n\\n \\n\\nTOTAL 101.70\\n\\n \\n\\nJoin us for our $25 Prix Fixe\\nSunday - Wednesday\\n\\n6ST: 628874412RTOOO1\\n\\x0c'"
      ]
     },
     "execution_count": 38,
     "metadata": {},
     "output_type": "execute_result"
    }
   ],
   "source": [
    "# Now if we juggle with the configuration part of Tesseract we may get some variations in the outcome (--oem 1 --psm 4).\n",
    "cong=r'--oem 1 --psm 4'\n",
    "img = Image.open('14.PNG')\n",
    "text = tess.image_to_string(img, config = cong)\n",
    "text\n",
    "\n",
    "#Predicted Tine which is actually time\n",
    "#The errors which noticed are like Check # is predicted as 39560 which actually is 39580\n",
    "#predicted Srelts which is actually Smelts\n",
    "#predicted Tagliatelte which is actully Tagliatelle\n",
    "#predicted 08S Brownie instead of D&S Brownie\n",
    "#predicted  6ST instead of GST"
   ]
  },
  {
   "cell_type": "code",
   "execution_count": 36,
   "metadata": {},
   "outputs": [
    {
     "data": {
      "text/plain": [
       "'Sidecar Bar & Grill\\n\\nS17 College Street\\n\\nToronto, Ontario\\n\\nTel: 416-536-7000\\n\\n(Check #: 39560\\n\\nServer: Deb\\n\\n2/06/2011\\n\\nTable: 11\\n\\ni\\n\\nCHent: 2\\n\\n=\\n\\nOysters\\n\\n6.00\\n\\nSnelts\\n\\n12.00\\n\\nDuck Terrine\\n\\n14.00\\n\\nPrix Dessert\\n\\n0.00\\n\\n46 Malbec\\n\\n3.0\\n\\n8.00\\n\\nTagliatele\\n\\n16.00\\n\\n08S Brownie\\n\\n9.00\\n\\n‘SUB-TOTAL:\\n\\n90.00\\n\\n11.70\\n\\nTOTAL\\n\\n101.70\\n\\nJoin us for our $25 Prix Fixe\\n\\n6ST: 628874412RTOOO1\\n\\x0c'"
      ]
     },
     "execution_count": 36,
     "metadata": {},
     "output_type": "execute_result"
    }
   ],
   "source": [
    "# Now if we juggle with the configuration part of Tesseract we may get some variations in the outcome (--oem 1 --psm 11).\n",
    "cong=r'--oem 1 --psm 11'\n",
    "img = Image.open('14.PNG')\n",
    "text = tess.image_to_string(img, config = cong)\n",
    "text\n",
    "\n",
    "#We can observe slight variance in the results\n",
    "\n",
    "#The errors which noticed are like Check is predicted as 39560 which actually is 39580\n",
    "#predicted Snelts which is actually Smelts\n",
    "#predicted 46 Malbec instead of AG Malbec\n",
    "#predicted Tagliatele which is actully Tagliatelle\n",
    "#predicted 08S Brownie instead of D&S Brownie\n",
    "#predicted  6ST instead of GST"
   ]
  },
  {
   "cell_type": "code",
   "execution_count": 39,
   "metadata": {},
   "outputs": [
    {
     "data": {
      "text/plain": [
       "'Sidecar Bar & Grill\\n\\nS17 College Street\\n\\nToronto, Ontario\\n\\nTel: 416-536-7000\\n\\n(Check #: 39560\\n\\nServer: Deb\\n\\n2/06/2011\\n\\nTable: 11\\n\\ni\\n\\nCHent: 2\\n\\nOysters\\n\\nSnelts\\n\\nDuck Terrine\\n\\nses\\n\\nEBo\\n\\nPrix Dessert\\n\\n46 Malbec\\n\\nTagliatele\\n\\nSas ee aS\\n\\n08S Brownie\\n\\n‘SUB-TOTAL:\\n\\n81 wmaRo\\n\\nos\\n\\n=\\n\\n381 8888s8se8e\\n\\nTOTAL\\n\\n101.70\\n\\nJoin us for our $25 Prix Fixe\\n\\n6ST: 628874412RTOOO1\\n\\x0c'"
      ]
     },
     "execution_count": 39,
     "metadata": {},
     "output_type": "execute_result"
    }
   ],
   "source": [
    "# Now if we juggle with the configuration part of Tesseract we may get some variations in the outcome (--oem 1 --psm 12).\n",
    "cong=r'--oem 1 --psm 12'\n",
    "img = Image.open('14.PNG')\n",
    "text = tess.image_to_string(img, config = cong)\n",
    "text\n",
    "\n",
    "#Predicted S17 College Street instead of 577 College Street\n",
    "#Predicted n46 instead of AG Malbec\n",
    "#predicted Tagliatele which is actully Tagliatelle\n",
    "#predicted  6ST instead of GST"
   ]
  },
  {
   "cell_type": "code",
   "execution_count": 45,
   "metadata": {},
   "outputs": [
    {
     "data": {
      "text/plain": [
       "'Sidecar Bar & Grill\\n577 College Street\\nToronto, Ontario\\nTel: 416-536-7000\\nCheck #: 39560\\n\\nServer: Deb\\nTable: 11\\n\\n  \\n\\n \\n\\n1 Oysters 6.00\\n1 Srelts 12.00\\n1 Duck Terrine 14.00\\n1 Prix Dessert 0.00\\n1 AG Malbec: B.0\\n1 Soup 8.00\\n1 Tagliatelte 16.00\\n1 08S Brownie 9.00\\n‘SUB-TOTAL: 90.00\\n\\nist: 11.70\\n\\n \\n\\nTOTAL 101.70\\n\\n \\n\\nJoin us for our $25 Prix Fixe\\nSunday - Wednesday\\n\\n6ST: 628874412RTOOO1\\n\\x0c'"
      ]
     },
     "execution_count": 45,
     "metadata": {},
     "output_type": "execute_result"
    }
   ],
   "source": [
    "# Now if we juggle with the configuration part of Tesseract we may get some variations in the outcome (--oem 3 --psm 1).\n",
    "cong=r'--oem 3 --psm 1'\n",
    "img = Image.open('14.PNG')\n",
    "text = tess.image_to_string(img, config = cong)\n",
    "text\n",
    "\n",
    "#Error of AG Malbec is resolved when we kept oem =3\n",
    "#Error of 577 College Street solved\n",
    "#Rest of the errors remained same."
   ]
  },
  {
   "cell_type": "code",
   "execution_count": 47,
   "metadata": {},
   "outputs": [
    {
     "data": {
      "text/plain": [
       "'Sidecar Bar & Grill\\n577 College Street\\nToronto, Ontario\\nTel: 416-536-7000\\nCheck #: 39560\\n\\nServer: Deb\\nTable: 11\\n\\n  \\n\\n \\n\\n1 Oysters 6.00\\n1 Srelts 12.00\\n1 Duck Terrine 14.00\\n1 Prix Dessert 0.00\\n1 AG Malbec: B.0\\n1 Soup 8.00\\n1 Tagliatelte 16.00\\n1 08S Brownie 9.00\\n‘SUB-TOTAL: 90.00\\n\\nist: 11.70\\n\\n \\n\\nTOTAL 101.70\\n\\n \\n\\nJoin us for our $25 Prix Fixe\\nSunday - Wednesday\\n\\n6ST: 628874412RTOOO1\\n\\x0c'"
      ]
     },
     "execution_count": 47,
     "metadata": {},
     "output_type": "execute_result"
    }
   ],
   "source": [
    "# Now if we juggle with the configuration part of Tesseract we may get some variations in the outcome (--oem 3 --psm 3).\n",
    "cong=r'--oem 3 --psm 3'\n",
    "img = Image.open('14.PNG')\n",
    "text = tess.image_to_string(img, config = cong)\n",
    "text\n",
    "#Quite similar results to (--oem 3 --psm 1)"
   ]
  },
  {
   "cell_type": "code",
   "execution_count": 48,
   "metadata": {},
   "outputs": [
    {
     "data": {
      "text/plain": [
       "'Sidecar Bar & Grill\\n577 College Street\\nToronto, Ontario\\nTel: 416-536-7000\\nCheck #: 39560\\n\\nServer: Deb\\nTable: 11\\n\\n \\n\\n \\n\\n1 Oysters 6.00\\n1 Srelts 12.00\\n1 Duck Terrine 14.00\\n1 Prix Dessert 0.00\\n1 AG Malbec: B.0\\n1 Soup 8.00\\n1 Tagliatelte 16.00\\n1 08S Brownie 9.00\\n\\n \\n\\nTOTAL 101.70\\n\\n \\n\\nJoin us for our $25 Prix Fixe\\nSunday - Wednesday\\n\\n6ST: 628874412RTOOO1\\n\\x0c'"
      ]
     },
     "execution_count": 48,
     "metadata": {},
     "output_type": "execute_result"
    }
   ],
   "source": [
    "# Now if we juggle with the configuration part of Tesseract we may get some variations in the outcome (--oem 3 --psm 4).\n",
    "cong=r'--oem 3 --psm 4'\n",
    "img = Image.open('14.PNG')\n",
    "text = tess.image_to_string(img, config = cong)\n",
    "text"
   ]
  },
  {
   "cell_type": "code",
   "execution_count": 50,
   "metadata": {},
   "outputs": [
    {
     "data": {
      "text/plain": [
       "'Sidecar Bar & Grill\\n\\n517 College Street\\n\\nToronto, Ontario\\n\\nTel: 416-536-7000\\n\\nCheck #: 39560\\nServer: Deb Date: 12/06/2011\\nTable: 11 Tine: 21:26\\nChtent: 2\\n1 Oysters 6.00\\n1 Stelts 12.00\\n1 Duck Terrine 14.00\\n1 Prix Dessert 0.00\\n1 a6 Malbec 3.0\\n1 Soup 8.00\\n1 Tagliatelte 16.00\\n1 08S Brownie 9.00\\nSUB-TOTAL: 90.00\\nst: 11.70\\nTOTAL : 101.70\\nJoin us for our $25 Prix Fixe\\nSunday - Wednesday\\n6ST: @2887441zRT0001\\n\\x0c'"
      ]
     },
     "execution_count": 50,
     "metadata": {},
     "output_type": "execute_result"
    }
   ],
   "source": [
    "# Now if we juggle with the configuration part of Tesseract we may get some variations in the outcome (--oem 3 --psm 6).\n",
    "cong=r'--oem 3 --psm 6'\n",
    "img = Image.open('14.PNG')\n",
    "text = tess.image_to_string(img, config = cong)\n",
    "text"
   ]
  },
  {
   "cell_type": "code",
   "execution_count": 57,
   "metadata": {},
   "outputs": [
    {
     "data": {
      "text/plain": [
       "'Sidecar Bar & Grill\\n\\nS17 College Street\\n\\nToronto, Ontario\\n\\nTel: 416-536-7000\\n\\n(Check #: 39560\\n\\nServer: Deb\\n\\n2/06/2011\\n\\nTable: 11\\n\\ni\\n\\nCHent: 2\\n\\n=\\n\\nOysters\\n\\n6.00\\n\\nSnelts\\n\\n12.00\\n\\nDuck Terrine\\n\\n14.00\\n\\nPrix Dessert\\n\\n0.00\\n\\n46 Malbec\\n\\n3.0\\n\\n8.00\\n\\nTagliatele\\n\\n16.00\\n\\n08S Brownie\\n\\n9.00\\n\\n‘SUB-TOTAL:\\n\\n90.00\\n\\n11.70\\n\\nTOTAL\\n\\n101.70\\n\\nJoin us for our $25 Prix Fixe\\n\\n6ST: 628874412RTOOO1\\n\\x0c'"
      ]
     },
     "execution_count": 57,
     "metadata": {},
     "output_type": "execute_result"
    }
   ],
   "source": [
    "# Now if we juggle with the configuration part of Tesseract we may get some variations in the outcome (--oem 3 --psm 11).\n",
    "cong=r'--oem 3 --psm 11'\n",
    "img = Image.open('14.PNG')\n",
    "text = tess.image_to_string(img, config = cong)\n",
    "text\n",
    "\n",
    "#Predicted n46 Malbec instead of AG Malbec"
   ]
  },
  {
   "cell_type": "code",
   "execution_count": 73,
   "metadata": {},
   "outputs": [
    {
     "data": {
      "text/plain": [
       "'Sidecar Bar & Grill\\n\\nS17 College Street\\n\\nToronto, Ontario\\n\\nTel: 416-536-7000\\n\\n(Check #: 39560\\n\\nServer: Deb\\n\\n2/06/2011\\n\\nTable: 11\\n\\ni\\n\\nCHent: 2\\n\\nOysters\\n\\nSnelts\\n\\nDuck Terrine\\n\\nses\\n\\nEBo\\n\\nPrix Dessert\\n\\n46 Malbec\\n\\nTagliatele\\n\\nSas ee aS\\n\\n08S Brownie\\n\\n‘SUB-TOTAL:\\n\\n81 wmaRo\\n\\nos\\n\\n=\\n\\n381 8888s8se8e\\n\\nTOTAL\\n\\n101.70\\n\\nJoin us for our $25 Prix Fixe\\n\\n6ST: 628874412RTOOO1\\n\\x0c'"
      ]
     },
     "execution_count": 73,
     "metadata": {},
     "output_type": "execute_result"
    }
   ],
   "source": [
    "# Now if we juggle with the configuration part of Tesseract we may get some variations in the outcome (--oem 3 --psm 12).\n",
    "cong=r'--oem 3 --psm 12'\n",
    "img = Image.open('14.PNG')\n",
    "text = tess.image_to_string(img, config = cong)\n",
    "text\n",
    "#Predicted n46 Malbec instead of AG Malbec"
   ]
  },
  {
   "cell_type": "markdown",
   "metadata": {},
   "source": [
    "# Checking the three combinations(oem,psm =1,4  3,6  3,1) with some other images"
   ]
  },
  {
   "cell_type": "code",
   "execution_count": 66,
   "metadata": {},
   "outputs": [
    {
     "data": {
      "text/plain": [
       "'The War of the Worlds @lanet PDF\\n\\nCHAPTER ONE\\n\\nTHE EVE OF THE WAR\\n\\nNo one would have believed in the last years of the\\nnineteenth century that this world was being watched\\nkeenly and closely by intelligences greater than man’s and\\nyet as mortal as his own; that as men busied themselves\\nabout their various concerns they were scrutinised and\\nstudied, perhaps almost as narrowly as a man with a\\nmicroscope might scrutinise the transient creatures that\\nswarm and multiply in a drop of water. With infinite\\ncomplacency men went to and fro over this globe about\\ntheir little affairs, serene in their assurance of their empire\\nover matter. It is possible that the infusoria under the\\nmicroscope do the same. No one gave a thought to the\\n\\x0c'"
      ]
     },
     "execution_count": 66,
     "metadata": {},
     "output_type": "execute_result"
    }
   ],
   "source": [
    "cong=r'--oem 1 --psm 4'\n",
    "img = Image.open('16.PNG')\n",
    "text = tess.image_to_string(img, config = cong)\n",
    "text\n"
   ]
  },
  {
   "cell_type": "code",
   "execution_count": 67,
   "metadata": {},
   "outputs": [
    {
     "data": {
      "text/plain": [
       "'The War of the Worlds @lanet PDF\\nCHAPTER ONE\\nTHE EVE OF THE WAR\\n\\nNo one would have believed in the last years of the\\nnineteenth century that this world was being watched\\nkeenly and closely by intelligences greater than man’s and\\nyet as mortal as his own; that as men busied themselves\\nabout their various concerns they were scrutinised and\\nstudied, perhaps almost as narrowly as a man with a\\nmicroscope might scrutinise the transient creatures that\\nswarm and multiply in a drop of water. With infinite\\ncomplacency men went to and fro over this globe about\\ntheir little affairs, serene in their assurance of their empire\\nover matter. It is possible that the infusoria under the\\nmicroscope do the same. No one gave a thought to the\\n\\x0c'"
      ]
     },
     "execution_count": 67,
     "metadata": {},
     "output_type": "execute_result"
    }
   ],
   "source": [
    "cong=r'--oem 3 --psm 6'\n",
    "img = Image.open('16.PNG')\n",
    "text = tess.image_to_string(img, config = cong)\n",
    "text"
   ]
  },
  {
   "cell_type": "code",
   "execution_count": 68,
   "metadata": {},
   "outputs": [
    {
     "data": {
      "text/plain": [
       "'The War of the Worlds @lanet PDF\\n\\nCHAPTER ONE\\n\\nTHE EVE OF THE WAR\\n\\nNo one would have believed in the last years of the\\nnineteenth century that this world was being watched\\nkeenly and closely by intelligences greater than man’s and\\nyet as mortal as his own; that as men busied themselves\\nabout their various concerns they were scrutinised and\\nstudied, perhaps almost as narrowly as a man with a\\nmicroscope might scrutinise the transient creatures that\\nswarm and multiply in a drop of water. With infinite\\ncomplacency men went to and fro over this globe about\\ntheir little affairs, serene in their assurance of their empire\\nover matter. It is possible that the infusoria under the\\nmicroscope do the same. No one gave a thought to the\\n\\x0c'"
      ]
     },
     "execution_count": 68,
     "metadata": {},
     "output_type": "execute_result"
    }
   ],
   "source": [
    "cong=r'--oem 3 --psm 1'\n",
    "img = Image.open('16.PNG')\n",
    "text = tess.image_to_string(img, config = cong)\n",
    "text"
   ]
  },
  {
   "cell_type": "markdown",
   "metadata": {},
   "source": [
    "# Checking the three combinations(oem,psm =1,4  3,6  3,1) with some other images"
   ]
  },
  {
   "cell_type": "code",
   "execution_count": 69,
   "metadata": {},
   "outputs": [
    {
     "data": {
      "text/plain": [
       "'Properties - Receipt\\n\\nName\\nReceipt\\n\\nDocument size\\n\\n© vstetter (a1\\n\\n \\n\\nOAs @2t0mx29.70m)\\n© Receipt (Gem wide)\\nO business card\\n\\nO ustegal a\\'x14\")\\n\\nGroup images\\nGroup images ona single page\\n\\n \\n\\nAdd date stamp\\n‘Add date to filename\\n\\n \\n\\nDocument info\\n‘Size: 7.50 MB\\n\\nCreated on: November 2,2014,2:55 AM\\nLast page added: n/a\\n\\nLast exported: July 14,2015, 12:51 PM.\\nExported as: Email\\n\\x0c'"
      ]
     },
     "execution_count": 69,
     "metadata": {},
     "output_type": "execute_result"
    }
   ],
   "source": [
    "cong=r'--oem 1 --psm 4'\n",
    "img = Image.open('17.PNG')\n",
    "text = tess.image_to_string(img, config = cong)\n",
    "text\n"
   ]
  },
  {
   "cell_type": "code",
   "execution_count": 70,
   "metadata": {},
   "outputs": [
    {
     "data": {
      "text/plain": [
       "'€ Properties - Receipt\\nName\\nReceipt\\nDocument size\\nOvstetter(e%\"x11\")\\nOAs @2t0mx29.70m)\\n© Receipt (Gem wide)\\nO business card\\nO ustegal a\\'x14\")\\nGroup images\\n‘Group images on 8 single page\\n‘Add date stamp\\n‘Add date to filename\\nDocument info\\nSize: 7.50 MB\\n‘Created on: November 2,2014, 2:55 AM\\nLast page added: n/a\\nLast exported: July 14,2015, 12:51 PM\\nExported as: Email\\n\\x0c'"
      ]
     },
     "execution_count": 70,
     "metadata": {},
     "output_type": "execute_result"
    }
   ],
   "source": [
    "cong=r'--oem 3 --psm 6'\n",
    "img = Image.open('17.PNG')\n",
    "text = tess.image_to_string(img, config = cong)\n",
    "text"
   ]
  },
  {
   "cell_type": "code",
   "execution_count": 71,
   "metadata": {},
   "outputs": [
    {
     "data": {
      "text/plain": [
       "'Properties - Receipt\\n\\nName\\nReceipt\\n\\nDocument size\\n\\n© vstetter (a1\\n\\n \\n\\nOAs @2t0mx29.70m)\\n© Receipt (Gem wide)\\nO business card\\n\\nO ustegal a\\'x14\")\\n\\nGroup images\\nGroup images ona single page\\n\\n \\n\\nAdd date stamp\\n‘Add date to filename\\n\\n \\n\\nDocument info\\n\\n‘Size: 7.50 MB\\n\\nCreated on: November 2,2014,2:55 AM\\nLast page added: n/a\\n\\nLast exported: July 14,2015, 12:51 PM.\\nExported as: Email\\n\\x0c'"
      ]
     },
     "execution_count": 71,
     "metadata": {},
     "output_type": "execute_result"
    }
   ],
   "source": [
    "cong=r'--oem 3 --psm 1'\n",
    "img = Image.open('17.PNG')\n",
    "text = tess.image_to_string(img, config = cong)\n",
    "text"
   ]
  },
  {
   "cell_type": "code",
   "execution_count": 72,
   "metadata": {},
   "outputs": [
    {
     "data": {
      "text/plain": [
       "'Properties - Receipt\\n\\nName\\nReceipt\\n\\nDocument size\\n\\n© vstetter (a1\\n\\n \\n\\nOAs @2t0mx29.70m)\\n© Receipt (Gem wide)\\nO business card\\n\\nO ustegal a\\'x14\")\\n\\nGroup images\\nGroup images ona single page\\n\\n \\n\\nAdd date stamp\\n‘Add date to filename\\n\\n \\n\\nDocument info\\n\\n‘Size: 7.50 MB\\n\\nCreated on: November 2,2014,2:55 AM\\nLast page added: n/a\\n\\nLast exported: July 14,2015, 12:51 PM.\\nExported as: Email\\n\\x0c'"
      ]
     },
     "execution_count": 72,
     "metadata": {},
     "output_type": "execute_result"
    }
   ],
   "source": [
    "img = Image.open('17.PNG')\n",
    "text = tess.image_to_string(img)\n",
    "text"
   ]
  },
  {
   "cell_type": "code",
   "execution_count": null,
   "metadata": {},
   "outputs": [],
   "source": []
  }
 ],
 "metadata": {
  "kernelspec": {
   "display_name": "Python 3",
   "language": "python",
   "name": "python3"
  },
  "language_info": {
   "codemirror_mode": {
    "name": "ipython",
    "version": 3
   },
   "file_extension": ".py",
   "mimetype": "text/x-python",
   "name": "python",
   "nbconvert_exporter": "python",
   "pygments_lexer": "ipython3",
   "version": "3.6.9"
  }
 },
 "nbformat": 4,
 "nbformat_minor": 4
}
