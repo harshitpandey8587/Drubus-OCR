{
 "cells": [
  {
   "cell_type": "code",
   "execution_count": null,
   "metadata": {},
   "outputs": [],
   "source": [
    "pip install pytesseract"
   ]
  },
  {
   "cell_type": "code",
   "execution_count": 5,
   "metadata": {},
   "outputs": [],
   "source": [
    "import pytesseract as tess\n",
    "#Setting the path for tesseract.exe file in the local system\n",
    "tess.pytesseract.tesseract_cmd = r'C:\\Users\\Harsh\\AppData\\Local\\Programs\\Tesseract-OCR\\tesseract.exe'"
   ]
  },
  {
   "cell_type": "code",
   "execution_count": 6,
   "metadata": {},
   "outputs": [],
   "source": [
    "from PIL import Image"
   ]
  },
  {
   "cell_type": "code",
   "execution_count": 8,
   "metadata": {},
   "outputs": [],
   "source": [
    "img = Image.open('1.PNG')\n",
    "text = tess.image_to_string(img)"
   ]
  },
  {
   "cell_type": "code",
   "execution_count": 9,
   "metadata": {},
   "outputs": [
    {
     "data": {
      "text/plain": [
       "'19\\n\\nMAY 2 6 1981\\n\\nADDENDUM I\\n\\nDAWSON RESEARCH CORPORATION\\nProtocol Change Order No. _1\\n\\nDate 5-13-81\\n\\n \\n\\nProtocol LRC-SA\\n\\nSubject Change in the time of the Pre-dose Biomicroscopic Examination\\n\\n \\n\\n \\n\\nDate 5-13-81 _ Method Verbal-Phone\\n\\nAuthorized by Dr. Connie stone\\n(Means of communication)\\n\\n \\n\\nAuthorized to Mz. Charles Burns\\n\\n \\n\\nEstimated cost of the study will be: -\\n\\n \\n\\n \\n\\n \\n\\n \\n\\nX] increased decreased not affected\\n\\n \\n\\n \\n\\n \\n\\n \\n\\n \\n\\n \\n\\nDescription of change order:\\n\\nSection 111. a. 24 paragraph - the first sentence is to be changed to read\\n\\nas follows:\\nTwenty-four to 30 hours prior to dosing, both eyes of each rabbit will\\nbe examined by an experienced investigator using a slit lamp\\nbiomicroscope.\\n\\nThe change was made so the protocol more closely conforms with the proposed\\n\\nregulations as stated in the Federal Register, Vol. 44, No. 145,\\n772.112-24 Primary Eye Irritation Study.\\n\\n6L8TS800\\n\\n \\n\\na SL sh bX raat (ype\\n\\nStudy Director Signature\\n\\n \\n\\n \\n\\nSponsér Signature\\n\\x0c'"
      ]
     },
     "execution_count": 9,
     "metadata": {},
     "output_type": "execute_result"
    }
   ],
   "source": [
    "#good amount of accuracy in terms of text extraction from scanned documents.\n",
    "text"
   ]
  },
  {
   "cell_type": "code",
   "execution_count": 10,
   "metadata": {},
   "outputs": [
    {
     "data": {
      "text/plain": [
       "'O — TD |} Bhs Ko B\\nO~NMARYDBWR aS\\nQANMRLY KP\\nO~NMRHVRAST\\nD— Noor hse Poo\\nQAVVEPRHOOAO\\nQO mhoayh-S Kron\\nO™~ NO RWW HH YP\\nQ-AMTAV KAW\\nONAMTYS KROAS\\nDV PALS Rew\\nR— NM nw Rw HK\\nS—-NMY4H YD tws\\nD—amehLon gar\\nDuiYOK MTHS Ko &\\n\\x0c'"
      ]
     },
     "execution_count": 10,
     "metadata": {},
     "output_type": "execute_result"
    }
   ],
   "source": [
    "#trying implementing tesseract over any other image(handwritten).\n",
    "img = Image.open('5.JPEG')\n",
    "text = tess.image_to_string(img)\n",
    "text"
   ]
  },
  {
   "cell_type": "code",
   "execution_count": 12,
   "metadata": {},
   "outputs": [
    {
     "data": {
      "text/plain": [
       "'Optical Character Recognition\\n\\n* Convert text into machine processable data\\n\\n* 1910s\\n* Telegraph codes\\n* Reading device for the blind\\n\\n* Circa 1930\\n* Searching microfilm archives\\n\\n* Fixed font characters\\n* Accuracy affected by noise\\n\\n* Hand Written or printed characters\\n* Characters not consistent\\n* Likely to contain noise\\n\\x0c'"
      ]
     },
     "execution_count": 12,
     "metadata": {},
     "output_type": "execute_result"
    }
   ],
   "source": [
    "#Good accuracy from system based text images\n",
    "img = Image.open('7.JPG')\n",
    "text = tess.image_to_string(img)\n",
    "text"
   ]
  },
  {
   "cell_type": "code",
   "execution_count": 13,
   "metadata": {},
   "outputs": [
    {
     "data": {
      "text/plain": [
       "'Handwritten Digit Recognition with Python\\n\\nTechVidy:\\n\\n \\n\\x0c'"
      ]
     },
     "execution_count": 13,
     "metadata": {},
     "output_type": "execute_result"
    }
   ],
   "source": [
    "img = Image.open('6.JPG')\n",
    "text = tess.image_to_string(img)\n",
    "text"
   ]
  },
  {
   "cell_type": "code",
   "execution_count": 15,
   "metadata": {},
   "outputs": [
    {
     "data": {
      "text/plain": [
       "'    \\n \\n\\nle in the GitHub repository for\\n\\x0c'"
      ]
     },
     "execution_count": 15,
     "metadata": {},
     "output_type": "execute_result"
    }
   ],
   "source": [
    "#Struggling while extracting data from handwritten scanned images\n",
    "img = Image.open('9.jpg')\n",
    "text = tess.image_to_string(img)\n",
    "text"
   ]
  },
  {
   "cell_type": "code",
   "execution_count": 16,
   "metadata": {},
   "outputs": [
    {
     "data": {
      "text/plain": [
       "'RJR Mailfile Table Update Sheet\\n‘Alert Number 970220\\nTo: RJRIR - SuzvArt\\nFrom: Drew Huyett\\nDate: 3707\\n\\nProgram Group 102-Edlipse\\nSystem ‘Corp/Multibrand\\n\\nMailfile ID:___ 3,984 Maailfile Description Mail Order - Indy Responders\\n(onal Dataset Name\\n(competi\\n\\n \\n\\nProgram #: 700418\\n\\nBRC Codes w81-carton order form\\n\\n \\n\\n \\n\\nT Codes NA\\n\\n \\n\\n \\n\\n \\n\\n \\n\\n \\n\\n \\n\\n \\n\\n \\n\\n \\n\\n \\n\\n \\n\\n \\n\\n1 HD home delivery\\n23° ‘sneak preview\\n3\\n4\\n5\\n6\\n7\\n8\\n9\\n10\\nNotes\\nis 1s for notes\\n97022018 Maile\\n\\nOver exots\\n\\x0c'"
      ]
     },
     "execution_count": 16,
     "metadata": {},
     "output_type": "execute_result"
    }
   ],
   "source": [
    "img = Image.open('2.PNG')\n",
    "text = tess.image_to_string(img)\n",
    "text"
   ]
  },
  {
   "cell_type": "code",
   "execution_count": 17,
   "metadata": {},
   "outputs": [
    {
     "data": {
      "text/plain": [
       "'Reconstituted Tobacco Leaf Substitutions\\nExport Formulas\\nRevision Date: 05/11/95\\n\\n \\n\\nAllowable Grade Substitutions\\nfor Export CPCL\\n\\nAllowable Substitutions\\nRPCFS or RPCFS-O\\n\\n \\n\\n    \\n  \\n\\npeer\\n\\neoeses eae\\n\\n \\n\\n \\n\\nee RPCBS or RPCBS-O.\\nwcc\\n\\n \\n\\n \\n\\n \\n\\nMC-4-S\\nMC-4-PH\\nMC-4-RC\\nMC-4-W\\n\\n \\n\\n \\n\\n \\n\\n \\n\\n \\n\\nMC-1\\n\\n \\n\\n \\n\\n~ {C Stem\\n\\n \\n\\n \\n\\n \\n\\n| RXF Fine fiue cure RRXF or RRXF-O\\nRRXM-B\\nRRXM-T\\n\\n \\n\\n \\n\\n \\n\\n \\n\\n \\n\\nRRBF or RRBF-O\\nRRB-B\\nRRB-L\\n\\n \\n\\n \\n\\n \\n\\n \\n\\nRRB-T\\n\\n \\n\\n \\n\\n \\n\\n \\n\\nSSbpuoustey\\n\\x0c'"
      ]
     },
     "execution_count": 17,
     "metadata": {},
     "output_type": "execute_result"
    }
   ],
   "source": [
    "img = Image.open('3.PNG')\n",
    "text = tess.image_to_string(img)\n",
    "text"
   ]
  },
  {
   "cell_type": "code",
   "execution_count": 18,
   "metadata": {},
   "outputs": [
    {
     "data": {
      "text/plain": [
       "\" \\n\\n \\n\\n \\n\\n \\n\\nDirect Account.\\nPlease Ship To-\\nAddress.\\nCity\\n‘State\\n\\nDelivery Date\\n\\nZip.\\n\\n \\n\\n \\n\\n \\n\\nNo, OF CARTONS\\n\\nBRAND\\n\\n \\n\\nSatin Filter 100's\\n\\n \\n\\nSatin Menthol 100’s\\n\\n \\n\\n \\n\\n \\n\\n \\n\\n \\n\\nrate of\\nta rrchasor\\n\\n \\n\\n(Order Taken By\\n‘Sales Representa\\n\\nSrsegosd\\n\\n \\n\\n \\n\\x0c\""
      ]
     },
     "execution_count": 18,
     "metadata": {},
     "output_type": "execute_result"
    }
   ],
   "source": [
    "img = Image.open('4.PNG')\n",
    "text = tess.image_to_string(img)\n",
    "text"
   ]
  }
 ],
 "metadata": {
  "kernelspec": {
   "display_name": "Python 3",
   "language": "python",
   "name": "python3"
  },
  "language_info": {
   "codemirror_mode": {
    "name": "ipython",
    "version": 3
   },
   "file_extension": ".py",
   "mimetype": "text/x-python",
   "name": "python",
   "nbconvert_exporter": "python",
   "pygments_lexer": "ipython3",
   "version": "3.8.3"
  }
 },
 "nbformat": 4,
 "nbformat_minor": 4
}
