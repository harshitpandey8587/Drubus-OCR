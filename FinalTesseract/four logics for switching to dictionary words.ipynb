{
 "cells": [
  {
   "cell_type": "code",
   "execution_count": 1,
   "metadata": {},
   "outputs": [],
   "source": [
    "import pytesseract as tess\n",
    "#Setting the path for tesseract.exe file in the local system\n",
    "tess.pytesseract.tesseract_cmd = r'C:\\Users\\Harsh\\AppData\\Local\\Programs\\Tesseract-OCR\\tesseract.exe'"
   ]
  },
  {
   "cell_type": "code",
   "execution_count": 2,
   "metadata": {},
   "outputs": [],
   "source": [
    "from PIL import Image\n",
    "from textblob import TextBlob\n",
    "from textblob import Word\n",
    "from textblob.wordnet import VERB\n",
    "import pandas as pd"
   ]
  },
  {
   "cell_type": "code",
   "execution_count": 3,
   "metadata": {},
   "outputs": [
    {
     "name": "stdout",
     "output_type": "stream",
     "text": [
      "CROSS CHANNEL NEiWORK SDN. BHD.\n",
      "47, JALAN MERANTI 1, SEK. 3,\n",
      "BANDAR UTAMA BATANG KALI,\n",
      "\n",
      "44300 BATANG KALI, SELANGOR.\n",
      "Tel : 03-6057 9688 Fax : 03-6057 9678\n",
      "GST ID : 001151500288\n",
      "\n",
      "Tax Invoice No. : BTG-050036\n",
      "\n",
      "Qty” RM Tax\n",
      "20MMHERO PVC CONDUIT PIPE 1 1.80 sr\n",
      "@ 17000\n",
      "\n",
      "154 PVC CONNE: TOR @ 1.8000 1 1.91 sR\n",
      "\n",
      "R & B-C/CLIP 8MM X 100PCS 1 371 sR\n",
      "CABLE CLIPS @ 3 5000\n",
      "\n",
      "3\" X 3\" 2862A1PVCNUTBOX@ 1 0.53 sk\n",
      "0.5000\n",
      "\n",
      "Total Amt Incl. GST @ 6% 7.95\n",
      "Rounding Adjust Frient ;\n",
      "\n",
      "Total Amt Payable 7.95\n",
      "\n",
      "PaidAmount: 1000\n",
      "\n",
      "Change 205\n",
      "\n",
      "Naser Total Qty Tender. 4.00\n",
      "\n",
      "{GST Summary Amount\n",
      "i SRM)\n",
      "\n",
      " \n",
      "\n",
      " \n",
      "\n",
      "      \n",
      "\n",
      "THANK YOU\n",
      "For any enquiry, please & mail us:\n",
      "gowad688@gniail.com\n",
      "31/12/2017 10:33:59 AM\n",
      "\f",
      "\n"
     ]
    }
   ],
   "source": [
    "img = Image.open('r1.jpg')\n",
    "text = tess.image_to_string(img)\n",
    "print(text)"
   ]
  },
  {
   "cell_type": "code",
   "execution_count": 8,
   "metadata": {},
   "outputs": [],
   "source": [
    "words = text.split()"
   ]
  },
  {
   "cell_type": "code",
   "execution_count": 9,
   "metadata": {},
   "outputs": [
    {
     "name": "stdout",
     "output_type": "stream",
     "text": [
      "CROSS\n",
      "CHANNEL\n",
      "NEiWORK\n",
      "SDN.\n",
      "BHD.\n",
      "47,\n",
      "JALAN\n",
      "MERANTI\n",
      "1,\n",
      "SEK.\n",
      "3,\n",
      "BANDAR\n",
      "UTAMA\n",
      "BATANG\n",
      "KALI,\n",
      "44300\n",
      "BATANG\n",
      "KALI,\n",
      "SELANGOR.\n",
      "Tel\n",
      ":\n",
      "03-6057\n",
      "9688\n",
      "Fax\n",
      ":\n",
      "03-6057\n",
      "9678\n",
      "GST\n",
      "ID\n",
      ":\n",
      "001151500288\n",
      "Tax\n",
      "Invoice\n",
      "No.\n",
      ":\n",
      "BTG-050036\n",
      "Qty”\n",
      "RM\n",
      "Tax\n",
      "20MMHERO\n",
      "PVC\n",
      "CONDUIT\n",
      "PIPE\n",
      "1\n",
      "1.80\n",
      "sr\n",
      "@\n",
      "17000\n",
      "154\n",
      "PVC\n",
      "CONNE:\n",
      "TOR\n",
      "@\n",
      "1.8000\n",
      "1\n",
      "1.91\n",
      "sR\n",
      "R\n",
      "&\n",
      "B-C/CLIP\n",
      "8MM\n",
      "X\n",
      "100PCS\n",
      "1\n",
      "371\n",
      "sR\n",
      "CABLE\n",
      "CLIPS\n",
      "@\n",
      "3\n",
      "5000\n",
      "3\"\n",
      "X\n",
      "3\"\n",
      "2862A1PVCNUTBOX@\n",
      "1\n",
      "0.53\n",
      "sk\n",
      "0.5000\n",
      "Total\n",
      "Amt\n",
      "Incl.\n",
      "GST\n",
      "@\n",
      "6%\n",
      "7.95\n",
      "Rounding\n",
      "Adjust\n",
      "Frient\n",
      ";\n",
      "Total\n",
      "Amt\n",
      "Payable\n",
      "7.95\n",
      "PaidAmount:\n",
      "1000\n",
      "Change\n",
      "205\n",
      "Naser\n",
      "Total\n",
      "Qty\n",
      "Tender.\n",
      "4.00\n",
      "{GST\n",
      "Summary\n",
      "Amount\n",
      "i\n",
      "SRM)\n",
      "THANK\n",
      "YOU\n",
      "For\n",
      "any\n",
      "enquiry,\n",
      "please\n",
      "&\n",
      "mail\n",
      "us:\n",
      "gowad688@gniail.com\n",
      "31/12/2017\n",
      "10:33:59\n",
      "AM\n"
     ]
    }
   ],
   "source": [
    "for word in words:\n",
    "    print(word)"
   ]
  },
  {
   "cell_type": "code",
   "execution_count": 10,
   "metadata": {},
   "outputs": [
    {
     "name": "stdout",
     "output_type": "stream",
     "text": [
      "['CROSS', 'CHANNEL', 'NEiWORK', 'SDN.', 'BHD.', '47,', 'JALAN', 'MERANTI', '1,', 'SEK.', '3,', 'BANDAR', 'UTAMA', 'BATANG', 'KALI,', '44300', 'BATANG', 'KALI,', 'SELANGOR.', 'Tel', ':', '03-6057', '9688', 'Fax', ':', '03-6057', '9678', 'GST', 'ID', ':', '001151500288', 'Tax', 'Invoice', 'No.', ':', 'BTG-050036', 'Qty”', 'RM', 'Tax', '20MMHERO', 'PVC', 'CONDUIT', 'PIPE', '1', '1.80', 'sr', '@', '17000', '154', 'PVC', 'CONNE:', 'TOR', '@', '1.8000', '1', '1.91', 'sR', 'R', '&', 'B-C/CLIP', '8MM', 'X', '100PCS', '1', '371', 'sR', 'CABLE', 'CLIPS', '@', '3', '5000', '3\"', 'X', '3\"', '2862A1PVCNUTBOX@', '1', '0.53', 'sk', '0.5000', 'Total', 'Amt', 'Incl.', 'GST', '@', '6%', '7.95', 'Rounding', 'Adjust', 'Frient', ';', 'Total', 'Amt', 'Payable', '7.95', 'PaidAmount:', '1000', 'Change', '205', 'Naser', 'Total', 'Qty', 'Tender.', '4.00', '{GST', 'Summary', 'Amount', 'i', 'SRM)', 'THANK', 'YOU', 'For', 'any', 'enquiry,', 'please', '&', 'mail', 'us:', 'gowad688@gniail.com', '31/12/2017', '10:33:59', 'AM']\n"
     ]
    }
   ],
   "source": [
    "print(words)"
   ]
  },
  {
   "cell_type": "code",
   "execution_count": 11,
   "metadata": {},
   "outputs": [],
   "source": [
    "words[0]='incxxxxxces'\n",
    "words[1]='estxxxxxxxxhed'\n",
    "words[3]='repondential'"
   ]
  },
  {
   "cell_type": "code",
   "execution_count": 12,
   "metadata": {},
   "outputs": [
    {
     "name": "stdout",
     "output_type": "stream",
     "text": [
      "['incxxxxxces', 'estxxxxxxxxhed', 'NEiWORK', 'repondential', 'BHD.', '47,', 'JALAN', 'MERANTI', '1,', 'SEK.', '3,', 'BANDAR', 'UTAMA', 'BATANG', 'KALI,', '44300', 'BATANG', 'KALI,', 'SELANGOR.', 'Tel', ':', '03-6057', '9688', 'Fax', ':', '03-6057', '9678', 'GST', 'ID', ':', '001151500288', 'Tax', 'Invoice', 'No.', ':', 'BTG-050036', 'Qty”', 'RM', 'Tax', '20MMHERO', 'PVC', 'CONDUIT', 'PIPE', '1', '1.80', 'sr', '@', '17000', '154', 'PVC', 'CONNE:', 'TOR', '@', '1.8000', '1', '1.91', 'sR', 'R', '&', 'B-C/CLIP', '8MM', 'X', '100PCS', '1', '371', 'sR', 'CABLE', 'CLIPS', '@', '3', '5000', '3\"', 'X', '3\"', '2862A1PVCNUTBOX@', '1', '0.53', 'sk', '0.5000', 'Total', 'Amt', 'Incl.', 'GST', '@', '6%', '7.95', 'Rounding', 'Adjust', 'Frient', ';', 'Total', 'Amt', 'Payable', '7.95', 'PaidAmount:', '1000', 'Change', '205', 'Naser', 'Total', 'Qty', 'Tender.', '4.00', '{GST', 'Summary', 'Amount', 'i', 'SRM)', 'THANK', 'YOU', 'For', 'any', 'enquiry,', 'please', '&', 'mail', 'us:', 'gowad688@gniail.com', '31/12/2017', '10:33:59', 'AM']\n"
     ]
    }
   ],
   "source": [
    "print(words)"
   ]
  },
  {
   "cell_type": "raw",
   "metadata": {},
   "source": []
  },
  {
   "cell_type": "code",
   "execution_count": 13,
   "metadata": {},
   "outputs": [
    {
     "name": "stdout",
     "output_type": "stream",
     "text": [
      "residential\n",
      "California\n",
      "article\n",
      "affected\n",
      "commercial\n",
      "airport\n",
      "industrial\n",
      "described\n",
      "established\n",
      "annoyances\n",
      "Inconveniences\n",
      "Regular\n",
      "NETWORK\n",
      "country\n",
      "inconveniences\n"
     ]
    }
   ],
   "source": [
    "dict = pd.read_csv('dict.txt')\n",
    "for ind,row in dict.iterrows():\n",
    "    print(row[0])"
   ]
  },
  {
   "cell_type": "code",
   "execution_count": 10,
   "metadata": {},
   "outputs": [
    {
     "data": {
      "text/plain": [
       "7"
      ]
     },
     "execution_count": 10,
     "metadata": {},
     "output_type": "execute_result"
    }
   ],
   "source": [
    "# str = \"network\"\n",
    "# len(str)"
   ]
  },
  {
   "cell_type": "code",
   "execution_count": 14,
   "metadata": {},
   "outputs": [],
   "source": [
    "#First logic is to check if the first char matches to dict word then check if the upcoming 5 chars also matches?If yes then swtich the word with dict word\n",
    "#Second logic is to check if first 2 char matches to dict word then check if last 4 chars of that words also matches to dict word?if yes then switch the word.\n",
    "\n",
    "\n",
    "newtest1 = open(\"newtest1.txt\",\"w+\")\n",
    "#Important block.\n",
    "for word in words:\n",
    "    for ind,row in dict.iterrows():\n",
    "        lword=len(word)\n",
    "        lrow = len(row[0])\n",
    "        #if first 5 chars matches then swtich to dictionary word\n",
    "        if word[0:1] == row[0][0:1]:\n",
    "            if word[1:5] == row[0][1:5]:\n",
    "                word = row[0]\n",
    "                break\n",
    "        #If first 2 chars and last 2 chars matches then swithc to dictionary word        \n",
    "        if word[0:2] == row[0][0:2]:\n",
    "            if word[lword:lword-2:-1] == row[0][lrow:lrow-2:-1]:\n",
    "                word = row[0]\n",
    "                break\n",
    "        #If first 3 chars and last 3 chars matches then switch with dictionary word        \n",
    "        if word[0:3] == row[0][0:3]:\n",
    "            if word[lword:lword-3:-1] == row[0][lrow:lrow-3:-1]:\n",
    "                word = row[0]\n",
    "                break\n",
    "        #If first 2 chars and last 6 chars matches then switch with dictionary word        \n",
    "        if word[0:2] == row[0][0:2]:\n",
    "            if word[lword:lword-6:-1] == row[0][lrow:lrow-6:-1]:\n",
    "                word = row[0]\n",
    "                break\n",
    "      \n",
    "    #print(word)\n",
    "    newtest1.write(word + \" \")\n",
    "    "
   ]
  },
  {
   "cell_type": "code",
   "execution_count": 15,
   "metadata": {},
   "outputs": [
    {
     "name": "stdout",
     "output_type": "stream",
     "text": [
      "inconvenience established NETWORK residential BHD. 47, JALAN MERANTI 1, SEK. 3, BANDAR UTAMA BATANG KALI, 44300 BATANG KALI, SELANGOR. El : 03-6057 9688 Tax : 03-6057 9678 GST of : 001151500288 Tax Voice To. : BTG-050036 Ty” of Tax 20MMHERO PVC CONDUIT PIPE 1 1.80 s @ 17000 154 PVC CONNE: TOR @ 1.8000 1 1.91 s R & B-C/CLIP 8MM X 100PCS 1 371 s CABLE CLIPS @ 3 5000 3\" X 3\" 2862A1PVCNUTBOX@ 1 0.53 s 0.5000 Total Mt Once. GST @ 6% 7.95 Founding Adjust Orient ; Total Mt Payable 7.95 PaidAmount: 1000 Change 205 Baser Total Ty Tender. 4.00 {GST Summary Amount i SRM) THANK YOU For any enquiry, please & mail us: gowad688@nail.com 31/12/2017 10:33:59 of \n"
     ]
    }
   ],
   "source": [
    "#Reading from a text file(newtest1 which has data predicited after dict implementation) as string for implemeting autocorrection.\n",
    "\n",
    "newtest1 = open(\"newtest1.txt\",\"w+\")\n",
    "\n",
    "for line in newtest1:\n",
    "    \n",
    "#Reading data from the file in order to implement autocorrect.\n",
    "    line = TextBlob(line)\n",
    "    print(line.correct())\n",
    "\n"
   ]
  },
  {
   "cell_type": "code",
   "execution_count": 16,
   "metadata": {},
   "outputs": [],
   "source": [
    "newtest1.close()"
   ]
  },
  {
   "cell_type": "code",
   "execution_count": 24,
   "metadata": {},
   "outputs": [
    {
     "name": "stdout",
     "output_type": "stream",
     "text": [
      "CROSS CHANNEL NETWORK SDN. BHD. 47, JALAN MERANTI 1, SEK. 3, BANDAR UTAMA BATANG KALI, 44300 BATANG KALI, SELANGOR. Tel : 03-6057 9688 Fax : 03-6057 9678 GST ID : 001151500288 Tax Inconveniences No. : BTG-050036 Qty” RM Tax 20MMHERO PVC CONDUIT PIPE 1 1.80 sr @ 17000 154 PVC CONNE: TOR @ 1.8000 1 1.91 sR R & B-C/CLIP 8MM X 100PCS 1 371 sR CABLE CLIPS @ 3 5000 3\" X 3\" 2862A1PVCNUTBOX@ 1 0.53 sk 0.5000 Total Amt Inconveniences GST @ 6% 7.95 Rounding Adjust Frient ; Total Amt Payable 7.95 PaidAmount: 1000 Change 205 Naser Total Qty Tender. 4.00 {GST Summary Amount i SRM) THANK YOU For annoyances enquiry, please & mail us: gowad688@gniail.com 31/12/2017 10:33:59 AM \n"
     ]
    }
   ],
   "source": [
    "with open(\"newtest1.txt\",\"r\") as f:\n",
    "    for line in f.readlines():\n",
    "        print(line)"
   ]
  },
  {
   "cell_type": "code",
   "execution_count": null,
   "metadata": {},
   "outputs": [],
   "source": []
  }
 ],
 "metadata": {
  "kernelspec": {
   "display_name": "Python 3",
   "language": "python",
   "name": "python3"
  },
  "language_info": {
   "codemirror_mode": {
    "name": "ipython",
    "version": 3
   },
   "file_extension": ".py",
   "mimetype": "text/x-python",
   "name": "python",
   "nbconvert_exporter": "python",
   "pygments_lexer": "ipython3",
   "version": "3.8.3"
  }
 },
 "nbformat": 4,
 "nbformat_minor": 4
}
