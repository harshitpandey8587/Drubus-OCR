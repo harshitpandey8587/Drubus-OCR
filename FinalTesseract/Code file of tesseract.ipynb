{
 "cells": [
  {
   "cell_type": "code",
   "execution_count": null,
   "metadata": {},
   "outputs": [],
   "source": [
    "import pytesseract as tess\n",
    "#Setting the path for tesseract.exe file in the local system\n",
    "tess.pytesseract.tesseract_cmd = r'C:\\Users\\Harsh\\AppData\\Local\\Programs\\Tesseract-OCR\\tesseract.exe'"
   ]
  },
  {
   "cell_type": "code",
   "execution_count": null,
   "metadata": {},
   "outputs": [],
   "source": [
    "pip install PIL\n",
    "pip install textblob\n",
    "pip install pandas"
   ]
  },
  {
   "cell_type": "code",
   "execution_count": null,
   "metadata": {},
   "outputs": [],
   "source": [
    "from PIL import Image\n",
    "from textblob import TextBlob\n",
    "from textblob import Word\n",
    "from textblob.wordnet import VERB\n",
    "import pandas as pd"
   ]
  },
  {
   "cell_type": "code",
   "execution_count": null,
   "metadata": {},
   "outputs": [],
   "source": [
    "#r1 is the name of the image.(Kindly provide absolute path of the same)\n",
    "img = Image.open('r1.jpg')\n",
    "text = tess.image_to_string(img)\n",
    "print(text)"
   ]
  },
  {
   "cell_type": "code",
   "execution_count": null,
   "metadata": {},
   "outputs": [],
   "source": [
    "words = text.split()"
   ]
  },
  {
   "cell_type": "code",
   "execution_count": null,
   "metadata": {},
   "outputs": [],
   "source": [
    "for word in words:\n",
    "    print(word)"
   ]
  },
  {
   "cell_type": "code",
   "execution_count": null,
   "metadata": {},
   "outputs": [],
   "source": [
    "#Reading the dictionary text file using pandas.\n",
    "dict = pd.read_csv('dict.txt')\n",
    "for ind,row in dict.iterrows():\n",
    "    print(row[0])"
   ]
  },
  {
   "cell_type": "code",
   "execution_count": null,
   "metadata": {},
   "outputs": [],
   "source": [
    "#First logic is to check if the first char matches to dict word then check if the upcoming 5 chars also matches?If yes then swtich the word with dict word\n",
    "#Second logic is to check if first 2 char matches to dict word then check if last 2 chars of that words also matches to dict word?if yes then switch the word.\n",
    "#Third logic is to check if first 3 char matches to dict word then check if last 3 chars of that words also matches to dict word?if yes then switch the word.\n",
    "#Fourth logic is to check if first 2 char matches to dict word then check if last 6 chars of that words also matches to dict word?if yes then switch the word.\n",
    "\n",
    "\n",
    "newtest1 = open(\"newtest1.txt\",\"w+\")\n",
    "#Important block.\n",
    "for word in words:\n",
    "    for ind,row in dict.iterrows():\n",
    "        lword=len(word)\n",
    "        lrow = len(row[0])\n",
    "        #if first 5 chars matches then swtich to dictionary word\n",
    "        if word[0:1] == row[0][0:1]:\n",
    "            if word[1:5] == row[0][1:5]:\n",
    "                word = row[0]\n",
    "                break\n",
    "        #If first 2 chars and last 2 chars matches then swithc to dictionary word        \n",
    "        if word[0:2] == row[0][0:2]:\n",
    "            if word[lword:lword-2:-1] == row[0][lrow:lrow-2:-1]:\n",
    "                word = row[0]\n",
    "                break\n",
    "        #If first 3 chars and last 3 chars matches then switch with dictionary word        \n",
    "        if word[0:3] == row[0][0:3]:\n",
    "            if word[lword:lword-3:-1] == row[0][lrow:lrow-3:-1]:\n",
    "                word = row[0]\n",
    "                break\n",
    "        #If first 2 chars and last 6 chars matches then switch with dictionary word        \n",
    "        if word[0:2] == row[0][0:2]:\n",
    "            if word[lword:lword-6:-1] == row[0][lrow:lrow-6:-1]:\n",
    "                word = row[0]\n",
    "                break\n",
    "      \n",
    "    #print(word)\n",
    "    newtest1.write(word + \" \")\n",
    "    "
   ]
  },
  {
   "cell_type": "code",
   "execution_count": null,
   "metadata": {},
   "outputs": [],
   "source": [
    "#Reading from a text file(newtest1 which has data predicited after dict implementation) as string for implemeting autocorrection.\n",
    "\n",
    "newtest1 = open(\"newtest1.txt\",\"w+\")\n",
    "\n",
    "for line in newtest1:\n",
    "    \n",
    "#Reading data from the file in order to implement autocorrect.\n",
    "    line = TextBlob(line)\n",
    "    print(line.correct())\n"
   ]
  },
  {
   "cell_type": "code",
   "execution_count": null,
   "metadata": {},
   "outputs": [],
   "source": [
    "newtest1.close()"
   ]
  }
 ],
 "metadata": {
  "kernelspec": {
   "display_name": "Python 3",
   "language": "python",
   "name": "python3"
  },
  "language_info": {
   "codemirror_mode": {
    "name": "ipython",
    "version": 3
   },
   "file_extension": ".py",
   "mimetype": "text/x-python",
   "name": "python",
   "nbconvert_exporter": "python",
   "pygments_lexer": "ipython3",
   "version": "3.8.3"
  }
 },
 "nbformat": 4,
 "nbformat_minor": 4
}
